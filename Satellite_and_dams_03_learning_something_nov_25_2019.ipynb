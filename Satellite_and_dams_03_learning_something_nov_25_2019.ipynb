{
  "nbformat": 4,
  "nbformat_minor": 0,
  "metadata": {
    "kernelspec": {
      "display_name": "Python 3",
      "language": "python",
      "name": "python3"
    },
    "language_info": {
      "codemirror_mode": {
        "name": "ipython",
        "version": 3
      },
      "file_extension": ".py",
      "mimetype": "text/x-python",
      "name": "python",
      "nbconvert_exporter": "python",
      "pygments_lexer": "ipython3",
      "version": "3.6.0"
    },
    "colab": {
      "name": "Satellite_and_dams_03_learning_something_nov_25_2019.ipynb",
      "provenance": [],
      "include_colab_link": true
    }
  },
  "cells": [
    {
      "cell_type": "markdown",
      "metadata": {
        "id": "view-in-github",
        "colab_type": "text"
      },
      "source": [
        "<a href=\"https://colab.research.google.com/github/ucfilho/Dam_Project_Satellite/blob/master/Satellite_and_dams_03_learning_something_nov_25_2019.ipynb\" target=\"_parent\"><img src=\"https://colab.research.google.com/assets/colab-badge.svg\" alt=\"Open In Colab\"/></a>"
      ]
    },
    {
      "cell_type": "markdown",
      "metadata": {
        "id": "ySSGRb5NhSUu",
        "colab_type": "text"
      },
      "source": [
        "# Vegetation classification is possible?"
      ]
    },
    {
      "cell_type": "markdown",
      "metadata": {
        "id": "9HYjd7RpfwFh",
        "colab_type": "text"
      },
      "source": [
        "https://www.tandfonline.com/doi/pdf/10.3402/polar.v23i1.6266"
      ]
    },
    {
      "cell_type": "markdown",
      "metadata": {
        "id": "Pj8xJjnlgByU",
        "colab_type": "text"
      },
      "source": [
        "This paper shows how a mesoscale vegetation clas-\n",
        "sification of a large and remote Arctic area can be\n",
        "effectively conducted with a limited ground ref-\n",
        "erence data set. In our case we found out that the\n",
        "feasible method to produce large-area, multiple\n",
        "image land cover classification was supervised\n",
        "classification of the spectrally matched image\n",
        "mosaic with some post-classification refinement\n",
        "with additional GIS data.\n",
        "Classification data like ours describing the main\n",
        "functional vegetation types of vegetation and land\n",
        "cover can be effectively used in many kinds of\n",
        "landscape analysis and process modelling stud-\n",
        "ies (Huisink et al. 2002; Kuhry et al. 2002; Van\n",
        "der Linden et al. 2003, Heikkinen et al. 2004; Vir-\n",
        "tanen et al. in press). In particular, the detailed\n",
        "spatial resolution (30 m cell size) provides new\n",
        "landscape level insights compared to the current-\n",
        "ly available global vegetation data sets.\n"
      ]
    },
    {
      "cell_type": "markdown",
      "metadata": {
        "id": "DjaViqhQZu4m",
        "colab_type": "text"
      },
      "source": [
        "# Read this page\n",
        "It is about satellite image..."
      ]
    },
    {
      "cell_type": "code",
      "metadata": {
        "id": "CzhkpceXTTwy",
        "colab_type": "code",
        "colab": {}
      },
      "source": [
        "# https://github.com/kscottz/PythonFromSpace/blob/master/Pycon2017.pdf"
      ],
      "execution_count": 0,
      "outputs": []
    },
    {
      "cell_type": "markdown",
      "metadata": {
        "id": "Gc8OZ4jJwBdW",
        "colab_type": "text"
      },
      "source": [
        "# Satellite Images\n",
        "Another text..."
      ]
    },
    {
      "cell_type": "markdown",
      "metadata": {
        "colab_type": "text",
        "id": "6ZAuK9QrwEOl"
      },
      "source": [
        "At over 40 years, the Landsat series of satellites provides the longest temporal record of moderate resolution multispectral data of the Earth’s surface on a global basis. The Landsat record has remained remarkably unbroken, proving a unique resource to assist a broad range of specialists in managing the world’s food, water, forests, and other natural resources for a growing world population. It is a record unmatched in quality, detail, coverage, and value. "
      ]
    },
    {
      "cell_type": "code",
      "metadata": {
        "id": "0E7Ibnanv_x7",
        "colab_type": "code",
        "colab": {}
      },
      "source": [
        "# https://www.earthdatascience.org/courses/earth-analytics-python/multispectral-remote-sensing-in-python/landsat-bands-geotif-in-Python/"
      ],
      "execution_count": 0,
      "outputs": []
    },
    {
      "cell_type": "markdown",
      "metadata": {
        "id": "UBaN3ZuagC8v",
        "colab_type": "text"
      },
      "source": [
        "### Talling dams"
      ]
    },
    {
      "cell_type": "markdown",
      "metadata": {
        "id": "-xop2AQPmLgS",
        "colab_type": "text"
      },
      "source": [
        "\n",
        "\n",
        "Tailings dams are massive structures designed to contain the waste slurry remaining after processing ore at open pit and underground mines. These structures fail far more regularly than normal water-storage dams. In recent years, catastrophic tailings dam failures have occurred, causing significant damage to the environment and even loss of life. To mitigate these catastrophic events in the future, there is an urgent need to develop cost-effective methods to monitor the structural stability of these constructions over time. The lack of current cost-effective monitoring methods prompted us to investigate whether ambient seismic noise can be used to detect internal changes in a tailings dam wall during a period of heavy rainfall. We recorded three weeks of..."
      ]
    },
    {
      "cell_type": "code",
      "metadata": {
        "id": "qoimZKM2mW0P",
        "colab_type": "code",
        "colab": {}
      },
      "source": [
        "# https://library.seg.org/doi/abs/10.1190/tle36040350a1.1"
      ],
      "execution_count": 0,
      "outputs": []
    },
    {
      "cell_type": "markdown",
      "metadata": {
        "id": "WnifwO-IdiYd",
        "colab_type": "text"
      },
      "source": [
        "# Geographical Information Systems (GIS)\n",
        "\n",
        "Water cycle, commercial activities, ecosystem interaction and other physical process in our environment are spatially distributed. In order to analyse and evaluate current conditions and future scenarios we need Geographical Information Systems (GIS) to connect your data with its position."
      ]
    },
    {
      "cell_type": "code",
      "metadata": {
        "id": "1DAsuZeNctkq",
        "colab_type": "code",
        "colab": {}
      },
      "source": [
        "# Sensors (Basel). 2007 Nov; 7(11): 2636–2651."
      ],
      "execution_count": 0,
      "outputs": []
    },
    {
      "cell_type": "markdown",
      "metadata": {
        "id": "VfLg_LRAdCa6",
        "colab_type": "text"
      },
      "source": [
        "Vegetation indices play an important role in monitoring variations in vegetation. The Enhanced Vegetation Index (EVI) proposed by the MODIS Land Discipline Group and the Normalized Difference Vegetation Index (NDVI) are both global-based vegetation indices aimed at providing consistent spatial and temporal information regarding global vegetation. However, many environmental factors such as atmospheric conditions and soil background may produce errors in these indices. The topographic effect is another very important factor, especially when the indices are used in areas of rough terrain. In this paper, we theoretically analyzed differences in the topographic effect on the EVI and the NDV"
      ]
    }
  ]
}